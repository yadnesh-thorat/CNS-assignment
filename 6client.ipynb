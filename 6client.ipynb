{
 "cells": [
  {
   "cell_type": "code",
   "execution_count": null,
   "id": "89f01ee9-6fe1-4c4e-868f-29e93fef5591",
   "metadata": {},
   "outputs": [
    {
     "name": "stdout",
     "output_type": "stream",
     "text": [
      "Message from Server: Hello UDP Client 17 3233\n"
     ]
    },
    {
     "name": "stdin",
     "output_type": "stream",
     "text": [
      "Enter your reply   hiii 5 7663\n"
     ]
    }
   ],
   "source": [
    "import socket\n",
    "import sys\n",
    "import threading\n",
    "\n",
    "e, d, n = generatePrime()\n",
    "msgFromClient = \"Hello UDP Server!. My public Key is: \" + str(e) + \" \" + str(n)\n",
    "bytesToSend = str.encode(msgFromClient)\n",
    "serverAddressPort = (\"127.0.0.2\", 2004)\n",
    "bufferSize = 1024\n",
    "\n",
    "# Create a UDP socket at client side\n",
    "UDPClientSocket = socket.socket(family=socket.AF_INET, type=socket.SOCK_DGRAM)\n",
    "\n",
    "# Send to server using created UDP socket\n",
    "UDPClientSocket.sendto(bytesToSend, serverAddressPort)\n",
    "msgFromServer = UDPClientSocket.recvfrom(bufferSize)\n",
    "msg = \"Message from Server: {}\".format(msgFromServer[0].decode('utf-8'))\n",
    "print(msg)\n",
    "\n",
    "def recv():\n",
    "    while True:\n",
    "        receive = UDPClientSocket.recvfrom(bufferSize)\n",
    "        msg = receive[0].decode('utf-8')\n",
    "\n",
    "        if not receive[0]: \n",
    "            sys.exit(0)\n",
    "\n",
    "        plainText = decrypt(msg, d, n)\n",
    "        print(plainText)\n",
    "\n",
    "def Send(sA):\n",
    "    while True:\n",
    "        msg = input(\"Enter your reply  \").upper()\n",
    "\n",
    "        if not msg.strip():  # Prevent empty input from crashing\n",
    "            continue\n",
    "\n",
    "        L1 = msg.split()\n",
    "\n",
    "        if len(L1) < 3:\n",
    "            print(\"Invalid input format. Use: MESSAGE EKEY N\")\n",
    "            continue\n",
    "\n",
    "        cipherText = convertText(L1[0], int(L1[1]), int(L1[2]))\n",
    "        UDPClientSocket.sendto(cipherText.encode('utf-8'), sA)\n",
    "\n",
    "        if msg == 'BYE':\n",
    "            sys.exit(0)\n",
    "\n",
    "while True: \n",
    "    threading.Thread(target=recv).start()\n",
    "    threading.Thread(target=Send, args=(serverAddressPort,)).start()\n"
   ]
  },
  {
   "cell_type": "code",
   "execution_count": null,
   "id": "8eba3122-1270-4c14-a69a-aab327e95a71",
   "metadata": {},
   "outputs": [],
   "source": []
  }
 ],
 "metadata": {
  "kernelspec": {
   "display_name": "Python [conda env:base] *",
   "language": "python",
   "name": "conda-base-py"
  },
  "language_info": {
   "codemirror_mode": {
    "name": "ipython",
    "version": 3
   },
   "file_extension": ".py",
   "mimetype": "text/x-python",
   "name": "python",
   "nbconvert_exporter": "python",
   "pygments_lexer": "ipython3",
   "version": "3.12.7"
  }
 },
 "nbformat": 4,
 "nbformat_minor": 5
}
