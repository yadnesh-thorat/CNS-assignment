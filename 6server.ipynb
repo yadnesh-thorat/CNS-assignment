{
 "cells": [
  {
   "cell_type": "code",
   "execution_count": 1,
   "id": "9ce399e5-3dd7-4f8d-b188-6cb424f964b4",
   "metadata": {},
   "outputs": [],
   "source": [
    "import random\n",
    "import hashlib"
   ]
  },
  {
   "cell_type": "code",
   "execution_count": 3,
   "id": "fcb14737-4510-41f4-b816-1890f9a97c3b",
   "metadata": {},
   "outputs": [],
   "source": [
    "def gcd(a,b): \n",
    "    if b==0: \n",
    "        return a \n",
    "    else: \n",
    "        return gcd(b,a%b)"
   ]
  },
  {
   "cell_type": "code",
   "execution_count": 5,
   "id": "479236fc-e11e-4816-8cee-7ec9507c0689",
   "metadata": {},
   "outputs": [],
   "source": [
    " def isPrime(n) : \n",
    "    # Corner cases \n",
    "    if (n <= 1) : \n",
    "        return False\n",
    "    if (n <= 3) : \n",
    "        return True\n",
    "   \n",
    "    # This is checked so that we can skip  \n",
    "    # middle five numbers in below loop \n",
    "    if (n % 2 == 0 or n % 3 == 0) : \n",
    "        return False\n",
    "   \n",
    "    i = 5\n",
    "    while(i * i <= n) : \n",
    "        if (n % i == 0 or n % (i + 2) == 0) : \n",
    "            return False\n",
    "        i = i + 6\n",
    "   \n",
    "    return True"
   ]
  },
  {
   "cell_type": "code",
   "execution_count": 12,
   "id": "3eb10f69-f7e1-40b7-8f93-128e88444564",
   "metadata": {},
   "outputs": [],
   "source": [
    " # Get a prime number\n",
    " def generatePrime(num = 100):\n",
    "    L1 = []\n",
    "    for i in range(60, num + 1): \n",
    "        if isPrime(i):\n",
    "            L1.append(i)\n",
    "    \n",
    "    p = random.choice(L1)\n",
    "    L1.pop(L1.index(p))\n",
    "    q = random.choice(L1)\n",
    "    \n",
    "    t = (p-1)*(q-1)\n",
    "    n = p*q\n",
    "    \n",
    "    for e in range(2,t): \n",
    "        if gcd(e,t)== 1: \n",
    "            break\n",
    "    for i in range(1,10): \n",
    "        x = 1 + i*t \n",
    "        if x % e == 0: \n",
    "             d = int(x/e) \n",
    "             break\n",
    "    \n",
    "    return e,d,n\n"
   ]
  },
  {
   "cell_type": "code",
   "execution_count": 20,
   "id": "158b77ad-61fe-44d8-935f-5d48faf67dfd",
   "metadata": {},
   "outputs": [],
   "source": [
    "Alphabet_List = {'A': '01', 'B': '02', 'C': '03', 'D': '04', 'E': '05', 'F': '06', \n",
    "                 'K': '11', 'L': '12', 'M': '13', 'N': '14', 'O': '15', 'P': '16', \n",
    "                 'U': '21', 'V': '22', 'W': '23', 'X': '24', 'Y': '25', 'Z': '26', \n",
    "                 '4': '31', '5': '32', '6': '33', '7': '34', '8': '35', '9': '36', '0': '37'}\n",
    "\n",
    "key_list = list(Alphabet_List.keys()) \n",
    "val_list = list(Alphabet_List.values()) \n",
    "\n",
    "def convertText(msg, Ekey, N):\n",
    "    li = list(msg)\n",
    "    lii = [Alphabet_List[i] for i in li if i in Alphabet_List]\n",
    "    \n",
    "    if len(lii) % 2 != 0:\n",
    "        lii.append('27')  # Padding with '27' if odd length\n",
    "\n",
    "    l1 = [int(lii[i] + lii[i+1]) for i in range(0, len(lii), 2)]\n",
    "    \n",
    "    ctt = [str(pow(no, Ekey, N)).zfill(4) for no in l1]  \n",
    "    ct = ''.join(ctt)\n",
    "    return ct\n",
    "\n",
    "def decrypt(cipherText, Dkey, N):\n",
    "    text = [str(pow(int(cipherText[i:i+4]), Dkey, N)).zfill(4) for i in range(0, len(cipherText), 4)]\n",
    "    \n",
    "    L1 = []\n",
    "    for i in text:\n",
    "        L1.append(i[0:2])\n",
    "        L1.append(i[2:4])\n",
    "\n",
    "    L2 = []\n",
    "    for i in L1:\n",
    "        if i in val_list:\n",
    "            L2.append(key_list[val_list.index(i)])\n",
    "        else:\n",
    "            L2.append('?')  # Placeholder for missing mappings\n",
    "\n",
    "    msg = ''.join(L2).replace('?', '')  # Removing unknown characters\n",
    "    return msg\n"
   ]
  },
  {
   "cell_type": "code",
   "execution_count": 25,
   "id": "4da5c382-552e-4db7-9f6f-2465406b3ba1",
   "metadata": {},
   "outputs": [
    {
     "name": "stdout",
     "output_type": "stream",
     "text": [
      "UDP server up and listening\n",
      "Message from Client: Hello UDP Server!. My public Key is: 17 3233\n",
      "Client IP Address: ('127.0.0.1', 61856)\n"
     ]
    },
    {
     "name": "stdin",
     "output_type": "stream",
     "text": [
      "Enter your reply:  Hello 5 5293\n"
     ]
    },
    {
     "name": "stderr",
     "output_type": "stream",
     "text": [
      "Exception in thread Thread-5 (recv):\n",
      "Traceback (most recent call last):\n",
      "  File \"C:\\Users\\yadne\\anaconda3\\Lib\\threading.py\", line 1075, in _bootstrap_inner\n",
      "    self.run()\n",
      "  File \"C:\\Users\\yadne\\anaconda3\\Lib\\threading.py\", line 1012, in run\n",
      "    self._target(*self._args, **self._kwargs)\n",
      "  File \"C:\\Users\\yadne\\AppData\\Local\\Temp\\ipykernel_16484\\1689126408.py\", line 28, in recv\n",
      "ConnectionResetError: [WinError 10054] An existing connection was forcibly closed by the remote host\n"
     ]
    },
    {
     "name": "stdin",
     "output_type": "stream",
     "text": [
      "Enter your reply:  Hello 5 5293\n"
     ]
    },
    {
     "ename": "ConnectionResetError",
     "evalue": "[WinError 10054] An existing connection was forcibly closed by the remote host",
     "output_type": "error",
     "traceback": [
      "\u001b[1;31m---------------------------------------------------------------------------\u001b[0m",
      "\u001b[1;31mConnectionResetError\u001b[0m                      Traceback (most recent call last)",
      "Cell \u001b[1;32mIn[25], line 58\u001b[0m\n\u001b[0;32m     56\u001b[0m \u001b[38;5;28;01mwhile\u001b[39;00m \u001b[38;5;28;01mTrue\u001b[39;00m:\n\u001b[0;32m     57\u001b[0m     flag \u001b[38;5;241m=\u001b[39m \u001b[38;5;241m1\u001b[39m\n\u001b[1;32m---> 58\u001b[0m     bytesAddressPair \u001b[38;5;241m=\u001b[39m UDPServerSocket\u001b[38;5;241m.\u001b[39mrecvfrom(bufferSize)\n\u001b[0;32m     59\u001b[0m     message \u001b[38;5;241m=\u001b[39m bytesAddressPair[\u001b[38;5;241m0\u001b[39m]\u001b[38;5;241m.\u001b[39mdecode(\u001b[38;5;124m'\u001b[39m\u001b[38;5;124mutf-8\u001b[39m\u001b[38;5;124m'\u001b[39m)\n\u001b[0;32m     60\u001b[0m     address \u001b[38;5;241m=\u001b[39m bytesAddressPair[\u001b[38;5;241m1\u001b[39m]\n",
      "\u001b[1;31mConnectionResetError\u001b[0m: [WinError 10054] An existing connection was forcibly closed by the remote host"
     ]
    }
   ],
   "source": [
    "import socket\n",
    "import threading\n",
    "\n",
    "# Function to generate prime numbers (assuming it's defined elsewhere)\n",
    "def generatePrime():\n",
    "    return 17, 2753, 3233  # Example RSA key values (e, d, n)\n",
    "\n",
    "e, d, n = generatePrime()\n",
    "\n",
    "localIP = \"127.0.0.2\"\n",
    "localPort = 2004\n",
    "bufferSize = 1024\n",
    "\n",
    "msgFromServer = \"Hello UDP Client \" + str(e) + \" \" + str(n)\n",
    "flag = 1\n",
    "bytesToSend = str.encode(msgFromServer)\n",
    "\n",
    "# Create a UDP socket\n",
    "UDPServerSocket = socket.socket(family=socket.AF_INET, type=socket.SOCK_DGRAM)\n",
    "\n",
    "# Bind to address and port\n",
    "UDPServerSocket.bind((localIP, localPort))\n",
    "print(\"UDP server up and listening\")\n",
    "\n",
    "def recv():\n",
    "    global flag\n",
    "    while True:\n",
    "        receive = UDPServerSocket.recvfrom(bufferSize)\n",
    "        msg = receive[0].decode('utf-8')\n",
    "        plainText = decrypt(msg, d, n)\n",
    "\n",
    "        if msg.lower() == 'bye':\n",
    "            flag = 0\n",
    "            break\n",
    "\n",
    "        print(plainText)\n",
    "\n",
    "def Send(client_address):\n",
    "    global flag\n",
    "    while True:\n",
    "        if flag == 0:\n",
    "            print(\"Connection closed\")\n",
    "            break\n",
    "\n",
    "        message = input(\"Enter your reply: \").upper()\n",
    "        parts = message.split()\n",
    "\n",
    "        if len(parts) < 3:\n",
    "            print(\"Invalid input format. Use: MESSAGE EKEY N\")\n",
    "            continue\n",
    "\n",
    "        cipherText = convertText(parts[0], int(parts[1]), int(parts[2]))\n",
    "        UDPServerSocket.sendto(cipherText.encode('utf-8'), client_address)\n",
    "\n",
    "# Listen for incoming messages\n",
    "while True:\n",
    "    flag = 1\n",
    "    bytesAddressPair = UDPServerSocket.recvfrom(bufferSize)\n",
    "    message = bytesAddressPair[0].decode('utf-8')\n",
    "    address = bytesAddressPair[1]\n",
    "\n",
    "    print(f\"Message from Client: {message}\")\n",
    "    print(f\"Client IP Address: {address}\")\n",
    "\n",
    "    UDPServerSocket.sendto(bytesToSend, address)\n",
    "\n",
    "    threading.Thread(target=recv).start()\n",
    "    threading.Thread(target=Send, args=(address,)).start()\n"
   ]
  },
  {
   "cell_type": "code",
   "execution_count": null,
   "id": "5b4c47b9-1e5b-4784-80f8-d9770479243d",
   "metadata": {},
   "outputs": [],
   "source": []
  }
 ],
 "metadata": {
  "kernelspec": {
   "display_name": "Python [conda env:base] *",
   "language": "python",
   "name": "conda-base-py"
  },
  "language_info": {
   "codemirror_mode": {
    "name": "ipython",
    "version": 3
   },
   "file_extension": ".py",
   "mimetype": "text/x-python",
   "name": "python",
   "nbconvert_exporter": "python",
   "pygments_lexer": "ipython3",
   "version": "3.12.7"
  }
 },
 "nbformat": 4,
 "nbformat_minor": 5
}
