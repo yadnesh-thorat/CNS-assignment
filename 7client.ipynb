{
 "cells": [
  {
   "cell_type": "code",
   "execution_count": 1,
   "id": "bac9fe6e-bad0-46c4-871e-ff8c89e6d21e",
   "metadata": {},
   "outputs": [
    {
     "name": "stdout",
     "output_type": "stream",
     "text": [
      "Requirement already satisfied: pycryptodome in c:\\users\\yadne\\anaconda3\\lib\\site-packages (3.22.0)\n",
      "Note: you may need to restart the kernel to use updated packages.\n"
     ]
    }
   ],
   "source": [
    "pip install pycryptodome"
   ]
  },
  {
   "cell_type": "code",
   "execution_count": 5,
   "id": "fbc4ffd1-b85c-4f40-9e34-b5710a85dd64",
   "metadata": {},
   "outputs": [
    {
     "name": "stdout",
     "output_type": "stream",
     "text": [
      "Shared secret key: 00000002\n"
     ]
    },
    {
     "name": "stdin",
     "output_type": "stream",
     "text": [
      " ->  b'00000002'\n",
      " ->  b'\\x89\\x0f\\xbf^\\x92\\xe0\\x84\\xc4'\n",
      " ->  bye\n"
     ]
    }
   ],
   "source": [
    "import socket\n",
    "from Crypto.Cipher import DES\n",
    "from Crypto.Util.Padding import pad\n",
    "\n",
    "def des_encrypt(plaintext, key):\n",
    "    des_cipher = DES.new(key, DES.MODE_ECB)\n",
    "    padded_plaintext = pad(plaintext, DES.block_size)\n",
    "    return des_cipher.encrypt(padded_plaintext)\n",
    "\n",
    "def client_program():\n",
    "    host = \"127.0.0.2\"  # Server IP address\n",
    "    port = 3010  # Port number\n",
    "    client_socket = socket.socket(socket.AF_INET, socket.SOCK_STREAM)\n",
    "    client_socket.connect((host, port))\n",
    "\n",
    "    # Diffie-Hellman key exchange\n",
    "    p = 23\n",
    "    g = 5\n",
    "    client_private_key = 15\n",
    "    client_public_key = (g ** client_private_key) % p\n",
    "    client_socket.send(str(client_public_key).encode())\n",
    "    \n",
    "    server_public_key = int(client_socket.recv(1024).decode())\n",
    "    shared_secret_key = (server_public_key ** client_private_key) % p\n",
    "    key = str(shared_secret_key).zfill(8).encode()  # Convert key to 8-byte string\n",
    "    print(\"Shared secret key:\", key.decode())\n",
    "\n",
    "    message = input(\" -> \")  # Input message to send\n",
    "    while message.lower().strip() != 'bye':\n",
    "        encrypted_message = des_encrypt(message.encode(), key)\n",
    "        client_socket.send(encrypted_message)\n",
    "        message = input(\" -> \")  # Input next message\n",
    "    \n",
    "    client_socket.close()\n",
    "\n",
    "if __name__ == '__main__':\n",
    "    client_program()\n"
   ]
  },
  {
   "cell_type": "code",
   "execution_count": null,
   "id": "d4e34712-03bb-4cd8-8b07-d3abc7474e3a",
   "metadata": {},
   "outputs": [],
   "source": []
  }
 ],
 "metadata": {
  "kernelspec": {
   "display_name": "Python [conda env:base] *",
   "language": "python",
   "name": "conda-base-py"
  },
  "language_info": {
   "codemirror_mode": {
    "name": "ipython",
    "version": 3
   },
   "file_extension": ".py",
   "mimetype": "text/x-python",
   "name": "python",
   "nbconvert_exporter": "python",
   "pygments_lexer": "ipython3",
   "version": "3.12.7"
  }
 },
 "nbformat": 4,
 "nbformat_minor": 5
}
