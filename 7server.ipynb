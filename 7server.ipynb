{
 "cells": [
  {
   "cell_type": "code",
   "execution_count": 5,
   "id": "053f43fa-019f-452d-bb52-9d23d7ca52a7",
   "metadata": {},
   "outputs": [
    {
     "name": "stdout",
     "output_type": "stream",
     "text": [
      "Collecting pycryptodome\n",
      "  Downloading pycryptodome-3.22.0-cp37-abi3-win_amd64.whl.metadata (3.4 kB)\n",
      "Downloading pycryptodome-3.22.0-cp37-abi3-win_amd64.whl (1.8 MB)\n",
      "   ---------------------------------------- 0.0/1.8 MB ? eta -:--:--\n",
      "   ---------------------------------------- 1.8/1.8 MB 10.9 MB/s eta 0:00:00\n",
      "Installing collected packages: pycryptodome\n",
      "Successfully installed pycryptodome-3.22.0\n",
      "Note: you may need to restart the kernel to use updated packages.\n"
     ]
    }
   ],
   "source": [
    "pip install pycryptodome\n"
   ]
  },
  {
   "cell_type": "code",
   "execution_count": null,
   "id": "2aeeb1b6-fab8-477d-a013-74d1eb993ddb",
   "metadata": {},
   "outputs": [
    {
     "name": "stdout",
     "output_type": "stream",
     "text": [
      "Server listening on 127.0.0.2 : 3010\n",
      "Connection from: ('127.0.0.1', 51073)\n",
      "Shared secret key: 00000002\n",
      "Received encrypted message: b'd\\xa6^\\xb0\\xb9\\xf4p\\xd2\\xcb\\xa1xpq-\\xbd\\x85'\n",
      "Decrypted message: b'00000002'\n"
     ]
    }
   ],
   "source": [
    "import socket\n",
    "from Crypto.Cipher import DES\n",
    "from Crypto.Util.Padding import unpad  # Used for proper decryption padding handling\n",
    "\n",
    "def des_decrypt(ciphertext, key):\n",
    "    des_cipher = DES.new(key, DES.MODE_ECB)\n",
    "    return unpad(des_cipher.decrypt(ciphertext), DES.block_size)  # Ensures proper padding removal\n",
    "\n",
    "def server_program():\n",
    "    host = \"127.0.0.2\"  # Server IP address\n",
    "    port = 3010 # Port number\n",
    "    server_socket = socket.socket(socket.AF_INET, socket.SOCK_STREAM)\n",
    "    server_socket.bind((host, port))\n",
    "    server_socket.listen(5)\n",
    "    \n",
    "    print(\"Server listening on\", host, \":\", port)\n",
    "    \n",
    "    conn, address = server_socket.accept()\n",
    "    print(\"Connection from:\", str(address))\n",
    "    \n",
    "    # Diffie-Hellman key exchange\n",
    "    p = 23\n",
    "    g = 5\n",
    "    server_private_key = 6\n",
    "    server_public_key = (g ** server_private_key) % p\n",
    "    conn.send(str(server_public_key).encode())\n",
    "    \n",
    "    client_public_key = int(conn.recv(1024).decode())\n",
    "    shared_secret_key = (client_public_key ** server_private_key) % p\n",
    "    \n",
    "    key = str(shared_secret_key).zfill(8).encode()  # Convert key to 8-byte string\n",
    "    print(\"Shared secret key:\", key.decode())  # Decode for human-readable output\n",
    "    \n",
    "    while True:\n",
    "        data = conn.recv(1024)\n",
    "        if not data:\n",
    "            break\n",
    "        print(\"Received encrypted message:\", data)\n",
    "        \n",
    "        try:\n",
    "            decrypted_data = des_decrypt(data, key)\n",
    "            print(\"Decrypted message:\", decrypted_data.decode())\n",
    "        except Exception as e:\n",
    "            print(\"Decryption error:\", e)  # Handles decryption errors gracefully\n",
    "    \n",
    "    conn.close()\n",
    "\n",
    "if __name__ == '__main__':\n",
    "    server_program()\n"
   ]
  },
  {
   "cell_type": "code",
   "execution_count": null,
   "id": "e64704c8-5592-4d2a-ae0f-f75f9aed39b3",
   "metadata": {},
   "outputs": [],
   "source": []
  }
 ],
 "metadata": {
  "kernelspec": {
   "display_name": "Python [conda env:base] *",
   "language": "python",
   "name": "conda-base-py"
  },
  "language_info": {
   "codemirror_mode": {
    "name": "ipython",
    "version": 3
   },
   "file_extension": ".py",
   "mimetype": "text/x-python",
   "name": "python",
   "nbconvert_exporter": "python",
   "pygments_lexer": "ipython3",
   "version": "3.12.7"
  }
 },
 "nbformat": 4,
 "nbformat_minor": 5
}
